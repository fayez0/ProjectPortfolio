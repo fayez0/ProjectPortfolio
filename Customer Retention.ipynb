{
 "cells": [
  {
   "cell_type": "code",
   "execution_count": 382,
   "metadata": {},
   "outputs": [],
   "source": [
    "import pandas as pd\n",
    "import numpy as np\n",
    "import datetime as dt\n",
    "import seaborn as sns\n",
    "import matplotlib.pyplot as plt\n",
    "%matplotlib inline"
   ]
  },
  {
   "cell_type": "markdown",
   "metadata": {},
   "source": [
    "I first put your code here"
   ]
  },
  {
   "cell_type": "code",
   "execution_count": 383,
   "metadata": {},
   "outputs": [],
   "source": [
    "df2 = pd.read_csv('members_dataset.csv')"
   ]
  },
  {
   "cell_type": "code",
   "execution_count": 384,
   "metadata": {},
   "outputs": [
    {
     "data": {
      "text/html": [
       "<div>\n",
       "<style scoped>\n",
       "    .dataframe tbody tr th:only-of-type {\n",
       "        vertical-align: middle;\n",
       "    }\n",
       "\n",
       "    .dataframe tbody tr th {\n",
       "        vertical-align: top;\n",
       "    }\n",
       "\n",
       "    .dataframe thead th {\n",
       "        text-align: right;\n",
       "    }\n",
       "</style>\n",
       "<table border=\"1\" class=\"dataframe\">\n",
       "  <thead>\n",
       "    <tr style=\"text-align: right;\">\n",
       "      <th></th>\n",
       "      <th>Customer ID</th>\n",
       "      <th>Membership Start Date</th>\n",
       "      <th>Transaction Date</th>\n",
       "      <th>Payment Type</th>\n",
       "      <th>Revenue</th>\n",
       "    </tr>\n",
       "  </thead>\n",
       "  <tbody>\n",
       "    <tr>\n",
       "      <th>0</th>\n",
       "      <td>386379</td>\n",
       "      <td>2019-02-19</td>\n",
       "      <td>2019-02-18</td>\n",
       "      <td>Annual Fee</td>\n",
       "      <td>285.9</td>\n",
       "    </tr>\n",
       "    <tr>\n",
       "      <th>1</th>\n",
       "      <td>386379</td>\n",
       "      <td>2019-02-19</td>\n",
       "      <td>2019-02-18</td>\n",
       "      <td>Monthly Fee</td>\n",
       "      <td>26.5</td>\n",
       "    </tr>\n",
       "    <tr>\n",
       "      <th>2</th>\n",
       "      <td>386379</td>\n",
       "      <td>2019-02-19</td>\n",
       "      <td>2019-03-19</td>\n",
       "      <td>Monthly Fee</td>\n",
       "      <td>26.5</td>\n",
       "    </tr>\n",
       "    <tr>\n",
       "      <th>3</th>\n",
       "      <td>386379</td>\n",
       "      <td>2019-02-19</td>\n",
       "      <td>2019-04-19</td>\n",
       "      <td>Monthly Fee</td>\n",
       "      <td>26.5</td>\n",
       "    </tr>\n",
       "    <tr>\n",
       "      <th>4</th>\n",
       "      <td>386379</td>\n",
       "      <td>2019-02-19</td>\n",
       "      <td>2019-05-19</td>\n",
       "      <td>Monthly Fee</td>\n",
       "      <td>26.5</td>\n",
       "    </tr>\n",
       "  </tbody>\n",
       "</table>\n",
       "</div>"
      ],
      "text/plain": [
       "   Customer ID Membership Start Date Transaction Date Payment Type  Revenue\n",
       "0       386379            2019-02-19       2019-02-18   Annual Fee    285.9\n",
       "1       386379            2019-02-19       2019-02-18  Monthly Fee     26.5\n",
       "2       386379            2019-02-19       2019-03-19  Monthly Fee     26.5\n",
       "3       386379            2019-02-19       2019-04-19  Monthly Fee     26.5\n",
       "4       386379            2019-02-19       2019-05-19  Monthly Fee     26.5"
      ]
     },
     "execution_count": 384,
     "metadata": {},
     "output_type": "execute_result"
    }
   ],
   "source": [
    "df2.head()"
   ]
  },
  {
   "cell_type": "code",
   "execution_count": 385,
   "metadata": {},
   "outputs": [],
   "source": [
    "df2['Membership Start Date'] = pd.to_datetime(df2['Membership Start Date'])\n",
    "df2[\"Transaction Date\"] = pd.to_datetime(df2[\"Transaction Date\"])\n",
    "df2['Transaction Date Month_Year'] = df2['Transaction Date'].dt.strftime('%Y-%m')"
   ]
  },
  {
   "cell_type": "code",
   "execution_count": 386,
   "metadata": {},
   "outputs": [],
   "source": [
    "df2['Member_ID'] = \"_\"+df2[\"Customer ID\"].map(str)+\"_\""
   ]
  },
  {
   "cell_type": "code",
   "execution_count": 387,
   "metadata": {},
   "outputs": [
    {
     "name": "stdout",
     "output_type": "stream",
     "text": [
      "\n",
      "\n",
      "((49465, 7),                                          Customer ID  \\\n",
      "0  [386379, 385532, 382351, 375345, 363517, 36230...   \n",
      "\n",
      "                               Membership Start Date  \\\n",
      "0  [2019-02-19T00:00:00.000000000, 2019-02-15T00:...   \n",
      "\n",
      "                                    Transaction Date  \\\n",
      "0  [2019-02-18T00:00:00.000000000, 2019-03-19T00:...   \n",
      "\n",
      "                Payment Type  \\\n",
      "0  [Annual Fee, Monthly Fee]   \n",
      "\n",
      "                                             Revenue  \\\n",
      "0  [285.9, 26.5, 331.9, 277.1, 2259.9, 269.9, 509...   \n",
      "\n",
      "                         Transaction Date Month_Year  \\\n",
      "0  [2019-02, 2019-03, 2019-04, 2019-05, 2019-01, ...   \n",
      "\n",
      "                                           Member_ID  \n",
      "0  [_386379_, _385532_, _382351_, _375345_, _3635...  )\n",
      "<class 'pandas.core.frame.DataFrame'>\n",
      "RangeIndex: 49465 entries, 0 to 49464\n",
      "Data columns (total 7 columns):\n",
      " #   Column                       Non-Null Count  Dtype         \n",
      "---  ------                       --------------  -----         \n",
      " 0   Customer ID                  49465 non-null  int64         \n",
      " 1   Membership Start Date        49465 non-null  datetime64[ns]\n",
      " 2   Transaction Date             49465 non-null  datetime64[ns]\n",
      " 3   Payment Type                 49465 non-null  object        \n",
      " 4   Revenue                      49465 non-null  float64       \n",
      " 5   Transaction Date Month_Year  49465 non-null  object        \n",
      " 6   Member_ID                    49465 non-null  object        \n",
      "dtypes: datetime64[ns](2), float64(1), int64(1), object(3)\n",
      "memory usage: 2.6+ MB\n",
      "None\n",
      "Customer ID                             int64\n",
      "Membership Start Date          datetime64[ns]\n",
      "Transaction Date               datetime64[ns]\n",
      "Payment Type                           object\n",
      "Revenue                               float64\n",
      "Transaction Date Month_Year            object\n",
      "Member_ID                              object\n",
      "dtype: object\n"
     ]
    }
   ],
   "source": [
    "#Function to gimme a dataframe \"structure\". Kinda equivalent to R's str()\n",
    "def rstr(df): \n",
    "    print(\"\\n\")\n",
    "    return df.shape,df.apply(lambda x: [x.unique()])\n",
    "print(rstr(df2))\n",
    "print(df2.info())\n",
    "print(df2.dtypes)"
   ]
  },
  {
   "cell_type": "code",
   "execution_count": 388,
   "metadata": {},
   "outputs": [
    {
     "data": {
      "text/plain": [
       "Transaction Date\n",
       "2018-12-18    6410.2\n",
       "Name: Revenue, dtype: float64"
      ]
     },
     "execution_count": 388,
     "metadata": {},
     "output_type": "execute_result"
    }
   ],
   "source": [
    "df2.groupby(['Transaction Date'])['Revenue'].max().nlargest(1)"
   ]
  },
  {
   "cell_type": "code",
   "execution_count": 389,
   "metadata": {},
   "outputs": [
    {
     "data": {
      "text/html": [
       "<div>\n",
       "<style scoped>\n",
       "    .dataframe tbody tr th:only-of-type {\n",
       "        vertical-align: middle;\n",
       "    }\n",
       "\n",
       "    .dataframe tbody tr th {\n",
       "        vertical-align: top;\n",
       "    }\n",
       "\n",
       "    .dataframe thead th {\n",
       "        text-align: right;\n",
       "    }\n",
       "</style>\n",
       "<table border=\"1\" class=\"dataframe\">\n",
       "  <thead>\n",
       "    <tr style=\"text-align: right;\">\n",
       "      <th></th>\n",
       "      <th>Revenue</th>\n",
       "    </tr>\n",
       "    <tr>\n",
       "      <th>Transaction Date</th>\n",
       "      <th></th>\n",
       "    </tr>\n",
       "  </thead>\n",
       "  <tbody>\n",
       "    <tr>\n",
       "      <th>2018-12-18</th>\n",
       "      <td>6410.2</td>\n",
       "    </tr>\n",
       "  </tbody>\n",
       "</table>\n",
       "</div>"
      ],
      "text/plain": [
       "                  Revenue\n",
       "Transaction Date         \n",
       "2018-12-18         6410.2"
      ]
     },
     "execution_count": 389,
     "metadata": {},
     "output_type": "execute_result"
    }
   ],
   "source": [
    "df2.groupby('Transaction Date').max()[['Revenue']].sort_values('Revenue', ascending = False).head(1)"
   ]
  },
  {
   "cell_type": "code",
   "execution_count": 390,
   "metadata": {},
   "outputs": [
    {
     "name": "stdout",
     "output_type": "stream",
     "text": [
      "Monthly Fee    119\n",
      "Annual Fee      38\n",
      "Name: Payment Type, dtype: int64\n",
      "Monthly Fee    0.757962\n",
      "Annual Fee     0.242038\n",
      "Name: Payment Type, dtype: float64\n"
     ]
    }
   ],
   "source": [
    "print(df2[df2[\"Transaction Date\"] == '2018-12-18']['Payment Type'].value_counts())\n",
    "print(df2[df2[\"Transaction Date\"] == '2018-12-18']['Payment Type'].value_counts(normalize=True))"
   ]
  },
  {
   "cell_type": "code",
   "execution_count": 391,
   "metadata": {},
   "outputs": [
    {
     "data": {
      "text/html": [
       "<div>\n",
       "<style scoped>\n",
       "    .dataframe tbody tr th:only-of-type {\n",
       "        vertical-align: middle;\n",
       "    }\n",
       "\n",
       "    .dataframe tbody tr th {\n",
       "        vertical-align: top;\n",
       "    }\n",
       "\n",
       "    .dataframe thead th {\n",
       "        text-align: right;\n",
       "    }\n",
       "</style>\n",
       "<table border=\"1\" class=\"dataframe\">\n",
       "  <thead>\n",
       "    <tr style=\"text-align: right;\">\n",
       "      <th></th>\n",
       "      <th>Revenue</th>\n",
       "    </tr>\n",
       "    <tr>\n",
       "      <th>Transaction Date Month_Year</th>\n",
       "      <th></th>\n",
       "    </tr>\n",
       "  </thead>\n",
       "  <tbody>\n",
       "    <tr>\n",
       "      <th>2018-12</th>\n",
       "      <td>6410.2</td>\n",
       "    </tr>\n",
       "  </tbody>\n",
       "</table>\n",
       "</div>"
      ],
      "text/plain": [
       "                             Revenue\n",
       "Transaction Date Month_Year         \n",
       "2018-12                       6410.2"
      ]
     },
     "execution_count": 391,
     "metadata": {},
     "output_type": "execute_result"
    }
   ],
   "source": [
    "df2.groupby(['Transaction Date Month_Year'])['Revenue'].max().nlargest(1) \n",
    "df2.groupby('Transaction Date Month_Year').max()[['Revenue']].sort_values('Revenue', ascending = False).head(1)"
   ]
  },
  {
   "cell_type": "code",
   "execution_count": 392,
   "metadata": {},
   "outputs": [
    {
     "name": "stdout",
     "output_type": "stream",
     "text": [
      "Monthly Fee    3994\n",
      "Annual Fee     1576\n",
      "Name: Payment Type, dtype: int64\n",
      "Monthly Fee    0.717056\n",
      "Annual Fee     0.282944\n",
      "Name: Payment Type, dtype: float64\n"
     ]
    }
   ],
   "source": [
    "print(df2[df2[\"Transaction Date Month_Year\"] == '2018-12']['Payment Type'].value_counts())\n",
    "print(df2[df2[\"Transaction Date Month_Year\"] == '2018-12']['Payment Type'].value_counts(normalize=True))"
   ]
  },
  {
   "cell_type": "code",
   "execution_count": 393,
   "metadata": {},
   "outputs": [],
   "source": [
    "df2_Pre = df2[df2['Transaction Date Month_Year']<\"2018-12\"]\n",
    "df2_Pos = df2[df2['Transaction Date Month_Year']>=\"2018-12\"]"
   ]
  },
  {
   "cell_type": "code",
   "execution_count": 394,
   "metadata": {},
   "outputs": [],
   "source": [
    "list_diff = set(df2_Pos[\"Member_ID\"]).difference(df2_Pre[\"Member_ID\"])"
   ]
  },
  {
   "cell_type": "code",
   "execution_count": 395,
   "metadata": {},
   "outputs": [],
   "source": [
    "df3A = df2_Pos[df2_Pos['Member_ID'].isin(list_diff)]"
   ]
  },
  {
   "cell_type": "code",
   "execution_count": 396,
   "metadata": {},
   "outputs": [
    {
     "data": {
      "text/html": [
       "<div>\n",
       "<style scoped>\n",
       "    .dataframe tbody tr th:only-of-type {\n",
       "        vertical-align: middle;\n",
       "    }\n",
       "\n",
       "    .dataframe tbody tr th {\n",
       "        vertical-align: top;\n",
       "    }\n",
       "\n",
       "    .dataframe thead th {\n",
       "        text-align: right;\n",
       "    }\n",
       "</style>\n",
       "<table border=\"1\" class=\"dataframe\">\n",
       "  <thead>\n",
       "    <tr style=\"text-align: right;\">\n",
       "      <th></th>\n",
       "      <th>Customer ID</th>\n",
       "      <th>Membership Start Date</th>\n",
       "      <th>Transaction Date</th>\n",
       "      <th>Payment Type</th>\n",
       "      <th>Revenue</th>\n",
       "      <th>Transaction Date Month_Year</th>\n",
       "      <th>Member_ID</th>\n",
       "    </tr>\n",
       "  </thead>\n",
       "  <tbody>\n",
       "    <tr>\n",
       "      <th>0</th>\n",
       "      <td>386379</td>\n",
       "      <td>2019-02-19</td>\n",
       "      <td>2019-02-18</td>\n",
       "      <td>Annual Fee</td>\n",
       "      <td>285.9</td>\n",
       "      <td>2019-02</td>\n",
       "      <td>_386379_</td>\n",
       "    </tr>\n",
       "    <tr>\n",
       "      <th>1</th>\n",
       "      <td>386379</td>\n",
       "      <td>2019-02-19</td>\n",
       "      <td>2019-02-18</td>\n",
       "      <td>Monthly Fee</td>\n",
       "      <td>26.5</td>\n",
       "      <td>2019-02</td>\n",
       "      <td>_386379_</td>\n",
       "    </tr>\n",
       "    <tr>\n",
       "      <th>2</th>\n",
       "      <td>386379</td>\n",
       "      <td>2019-02-19</td>\n",
       "      <td>2019-03-19</td>\n",
       "      <td>Monthly Fee</td>\n",
       "      <td>26.5</td>\n",
       "      <td>2019-03</td>\n",
       "      <td>_386379_</td>\n",
       "    </tr>\n",
       "    <tr>\n",
       "      <th>3</th>\n",
       "      <td>386379</td>\n",
       "      <td>2019-02-19</td>\n",
       "      <td>2019-04-19</td>\n",
       "      <td>Monthly Fee</td>\n",
       "      <td>26.5</td>\n",
       "      <td>2019-04</td>\n",
       "      <td>_386379_</td>\n",
       "    </tr>\n",
       "    <tr>\n",
       "      <th>4</th>\n",
       "      <td>386379</td>\n",
       "      <td>2019-02-19</td>\n",
       "      <td>2019-05-19</td>\n",
       "      <td>Monthly Fee</td>\n",
       "      <td>26.5</td>\n",
       "      <td>2019-05</td>\n",
       "      <td>_386379_</td>\n",
       "    </tr>\n",
       "  </tbody>\n",
       "</table>\n",
       "</div>"
      ],
      "text/plain": [
       "   Customer ID Membership Start Date Transaction Date Payment Type  Revenue  \\\n",
       "0       386379            2019-02-19       2019-02-18   Annual Fee    285.9   \n",
       "1       386379            2019-02-19       2019-02-18  Monthly Fee     26.5   \n",
       "2       386379            2019-02-19       2019-03-19  Monthly Fee     26.5   \n",
       "3       386379            2019-02-19       2019-04-19  Monthly Fee     26.5   \n",
       "4       386379            2019-02-19       2019-05-19  Monthly Fee     26.5   \n",
       "\n",
       "  Transaction Date Month_Year Member_ID  \n",
       "0                     2019-02  _386379_  \n",
       "1                     2019-02  _386379_  \n",
       "2                     2019-03  _386379_  \n",
       "3                     2019-04  _386379_  \n",
       "4                     2019-05  _386379_  "
      ]
     },
     "execution_count": 396,
     "metadata": {},
     "output_type": "execute_result"
    }
   ],
   "source": [
    "df3A.head()"
   ]
  },
  {
   "cell_type": "code",
   "execution_count": 397,
   "metadata": {},
   "outputs": [],
   "source": [
    "df3B = pd.DataFrame(pd.merge(df2_Pre, df2_Pos,how='outer', on='Member_ID', indicator=True, suffixes=('_foo','')).query('_merge == \"right_only\"'))"
   ]
  },
  {
   "cell_type": "code",
   "execution_count": 398,
   "metadata": {},
   "outputs": [],
   "source": [
    "df3_Pre = df2[df2['Transaction Date Month_Year']<\"2018-07\"]\n",
    "df3_Pos = df2[df2['Transaction Date Month_Year']>=\"2018-07\"]"
   ]
  },
  {
   "cell_type": "code",
   "execution_count": 399,
   "metadata": {},
   "outputs": [],
   "source": [
    "list_diff = set(df3_Pos[\"Member_ID\"]).difference(df3_Pre[\"Member_ID\"])\n",
    "where_diff = df3_Pos[\"Member_ID\"].isin(list_diff)"
   ]
  },
  {
   "cell_type": "code",
   "execution_count": 400,
   "metadata": {},
   "outputs": [
    {
     "data": {
      "text/plain": [
       "0    True\n",
       "1    True\n",
       "2    True\n",
       "3    True\n",
       "4    True\n",
       "Name: Member_ID, dtype: bool"
      ]
     },
     "execution_count": 400,
     "metadata": {},
     "output_type": "execute_result"
    }
   ],
   "source": [
    "where_diff.head()"
   ]
  },
  {
   "cell_type": "code",
   "execution_count": 401,
   "metadata": {},
   "outputs": [],
   "source": [
    "df4 = df3_Pos[df3_Pos['Member_ID'].isin(list_diff)]"
   ]
  },
  {
   "cell_type": "code",
   "execution_count": 402,
   "metadata": {},
   "outputs": [],
   "source": [
    "df5 = df4[df4['Transaction Date Month_Year']>\"2018-07\"]"
   ]
  },
  {
   "cell_type": "code",
   "execution_count": 403,
   "metadata": {},
   "outputs": [
    {
     "name": "stdout",
     "output_type": "stream",
     "text": [
      "Transaction Date Month_Year    36196\n",
      "dtype: int64\n",
      "Transaction Date Month_Year    10850\n",
      "dtype: int64\n",
      "Transaction Date Month_Year    3.336037\n",
      "dtype: float64\n"
     ]
    }
   ],
   "source": [
    "print(df5.groupby(['Member_ID']).agg({'Transaction Date Month_Year': 'nunique'}).sum())\n",
    "print(df5.groupby(['Member_ID']).agg({'Transaction Date Month_Year': 'nunique'}).count())\n",
    "print(df5.groupby(['Member_ID']).agg({'Transaction Date Month_Year': 'nunique'}).sum()/df5.groupby(['Member_ID']).agg({'Transaction Date Month_Year': 'nunique'}).count())"
   ]
  },
  {
   "cell_type": "code",
   "execution_count": 404,
   "metadata": {},
   "outputs": [
    {
     "name": "stdout",
     "output_type": "stream",
     "text": [
      "Transaction Date Month_Year    10850\n",
      "dtype: int64\n"
     ]
    }
   ],
   "source": [
    "print(df5.groupby(['Member_ID']).agg({'Transaction Date Month_Year': 'nunique'}).count())\n"
   ]
  },
  {
   "cell_type": "code",
   "execution_count": 405,
   "metadata": {},
   "outputs": [
    {
     "name": "stdout",
     "output_type": "stream",
     "text": [
      "10850\n"
     ]
    }
   ],
   "source": [
    "print(df5['Member_ID'].nunique())"
   ]
  },
  {
   "cell_type": "code",
   "execution_count": 410,
   "metadata": {},
   "outputs": [
    {
     "data": {
      "text/plain": [
       "Member_ID    4533\n",
       "dtype: int64"
      ]
     },
     "execution_count": 410,
     "metadata": {},
     "output_type": "execute_result"
    }
   ],
   "source": [
    "df2[df2['Transaction Date Month_Year']==\"2019-05\"].groupby(['Member_ID']).agg({'Member_ID': 'nunique'}).count()"
   ]
  },
  {
   "cell_type": "code",
   "execution_count": 411,
   "metadata": {},
   "outputs": [
    {
     "name": "stderr",
     "output_type": "stream",
     "text": [
      "/Users/fayezabu-ajamieh/anaconda3/lib/python3.7/site-packages/pandas/core/frame.py:4164: SettingWithCopyWarning: \n",
      "A value is trying to be set on a copy of a slice from a DataFrame\n",
      "\n",
      "See the caveats in the documentation: https://pandas.pydata.org/pandas-docs/stable/user_guide/indexing.html#returning-a-view-versus-a-copy\n",
      "  errors=errors,\n"
     ]
    }
   ],
   "source": [
    "df5.drop('Member_ID',axis=1,inplace=True)"
   ]
  },
  {
   "cell_type": "markdown",
   "metadata": {},
   "source": [
    "# My Code"
   ]
  },
  {
   "cell_type": "markdown",
   "metadata": {},
   "source": [
    "My rationale is as follows: If a customer continues to make payments until May 2019, then he is a retained customer, otherwise I will assume that that customer has been lost. I begin by preparing the features. My idea is that the longer the customer has been with the company, the more likely he/she will continue to be with the company"
   ]
  },
  {
   "cell_type": "code",
   "execution_count": 412,
   "metadata": {},
   "outputs": [
    {
     "name": "stderr",
     "output_type": "stream",
     "text": [
      "/Users/fayezabu-ajamieh/anaconda3/lib/python3.7/site-packages/ipykernel_launcher.py:2: SettingWithCopyWarning: \n",
      "A value is trying to be set on a copy of a slice from a DataFrame.\n",
      "Try using .loc[row_indexer,col_indexer] = value instead\n",
      "\n",
      "See the caveats in the documentation: https://pandas.pydata.org/pandas-docs/stable/user_guide/indexing.html#returning-a-view-versus-a-copy\n",
      "  \n",
      "/Users/fayezabu-ajamieh/anaconda3/lib/python3.7/site-packages/ipykernel_launcher.py:3: SettingWithCopyWarning: \n",
      "A value is trying to be set on a copy of a slice from a DataFrame.\n",
      "Try using .loc[row_indexer,col_indexer] = value instead\n",
      "\n",
      "See the caveats in the documentation: https://pandas.pydata.org/pandas-docs/stable/user_guide/indexing.html#returning-a-view-versus-a-copy\n",
      "  This is separate from the ipykernel package so we can avoid doing imports until\n"
     ]
    }
   ],
   "source": [
    "# Add two columns per customer, the date of the first transaction and the date of the last transactio\n",
    "df5['First Transaction'] = df5.groupby('Customer ID')['Transaction Date'].transform('min')\n",
    "df5['Last Transaction'] = df5.groupby('Customer ID')['Transaction Date'].transform('max')"
   ]
  },
  {
   "cell_type": "code",
   "execution_count": 413,
   "metadata": {},
   "outputs": [
    {
     "data": {
      "text/html": [
       "<div>\n",
       "<style scoped>\n",
       "    .dataframe tbody tr th:only-of-type {\n",
       "        vertical-align: middle;\n",
       "    }\n",
       "\n",
       "    .dataframe tbody tr th {\n",
       "        vertical-align: top;\n",
       "    }\n",
       "\n",
       "    .dataframe thead th {\n",
       "        text-align: right;\n",
       "    }\n",
       "</style>\n",
       "<table border=\"1\" class=\"dataframe\">\n",
       "  <thead>\n",
       "    <tr style=\"text-align: right;\">\n",
       "      <th></th>\n",
       "      <th>Customer ID</th>\n",
       "      <th>Membership Start Date</th>\n",
       "      <th>Transaction Date</th>\n",
       "      <th>Payment Type</th>\n",
       "      <th>Revenue</th>\n",
       "      <th>Transaction Date Month_Year</th>\n",
       "      <th>First Transaction</th>\n",
       "      <th>Last Transaction</th>\n",
       "    </tr>\n",
       "  </thead>\n",
       "  <tbody>\n",
       "    <tr>\n",
       "      <th>0</th>\n",
       "      <td>386379</td>\n",
       "      <td>2019-02-19</td>\n",
       "      <td>2019-02-18</td>\n",
       "      <td>Annual Fee</td>\n",
       "      <td>285.9</td>\n",
       "      <td>2019-02</td>\n",
       "      <td>2019-02-18</td>\n",
       "      <td>2019-05-19</td>\n",
       "    </tr>\n",
       "    <tr>\n",
       "      <th>1</th>\n",
       "      <td>386379</td>\n",
       "      <td>2019-02-19</td>\n",
       "      <td>2019-02-18</td>\n",
       "      <td>Monthly Fee</td>\n",
       "      <td>26.5</td>\n",
       "      <td>2019-02</td>\n",
       "      <td>2019-02-18</td>\n",
       "      <td>2019-05-19</td>\n",
       "    </tr>\n",
       "    <tr>\n",
       "      <th>2</th>\n",
       "      <td>386379</td>\n",
       "      <td>2019-02-19</td>\n",
       "      <td>2019-03-19</td>\n",
       "      <td>Monthly Fee</td>\n",
       "      <td>26.5</td>\n",
       "      <td>2019-03</td>\n",
       "      <td>2019-02-18</td>\n",
       "      <td>2019-05-19</td>\n",
       "    </tr>\n",
       "    <tr>\n",
       "      <th>3</th>\n",
       "      <td>386379</td>\n",
       "      <td>2019-02-19</td>\n",
       "      <td>2019-04-19</td>\n",
       "      <td>Monthly Fee</td>\n",
       "      <td>26.5</td>\n",
       "      <td>2019-04</td>\n",
       "      <td>2019-02-18</td>\n",
       "      <td>2019-05-19</td>\n",
       "    </tr>\n",
       "    <tr>\n",
       "      <th>4</th>\n",
       "      <td>386379</td>\n",
       "      <td>2019-02-19</td>\n",
       "      <td>2019-05-19</td>\n",
       "      <td>Monthly Fee</td>\n",
       "      <td>26.5</td>\n",
       "      <td>2019-05</td>\n",
       "      <td>2019-02-18</td>\n",
       "      <td>2019-05-19</td>\n",
       "    </tr>\n",
       "  </tbody>\n",
       "</table>\n",
       "</div>"
      ],
      "text/plain": [
       "   Customer ID Membership Start Date Transaction Date Payment Type  Revenue  \\\n",
       "0       386379            2019-02-19       2019-02-18   Annual Fee    285.9   \n",
       "1       386379            2019-02-19       2019-02-18  Monthly Fee     26.5   \n",
       "2       386379            2019-02-19       2019-03-19  Monthly Fee     26.5   \n",
       "3       386379            2019-02-19       2019-04-19  Monthly Fee     26.5   \n",
       "4       386379            2019-02-19       2019-05-19  Monthly Fee     26.5   \n",
       "\n",
       "  Transaction Date Month_Year First Transaction Last Transaction  \n",
       "0                     2019-02        2019-02-18       2019-05-19  \n",
       "1                     2019-02        2019-02-18       2019-05-19  \n",
       "2                     2019-03        2019-02-18       2019-05-19  \n",
       "3                     2019-04        2019-02-18       2019-05-19  \n",
       "4                     2019-05        2019-02-18       2019-05-19  "
      ]
     },
     "execution_count": 413,
     "metadata": {},
     "output_type": "execute_result"
    }
   ],
   "source": [
    "df5.head()"
   ]
  },
  {
   "cell_type": "code",
   "execution_count": 414,
   "metadata": {},
   "outputs": [
    {
     "name": "stderr",
     "output_type": "stream",
     "text": [
      "/Users/fayezabu-ajamieh/anaconda3/lib/python3.7/site-packages/ipykernel_launcher.py:4: SettingWithCopyWarning: \n",
      "A value is trying to be set on a copy of a slice from a DataFrame.\n",
      "Try using .loc[row_indexer,col_indexer] = value instead\n",
      "\n",
      "See the caveats in the documentation: https://pandas.pydata.org/pandas-docs/stable/user_guide/indexing.html#returning-a-view-versus-a-copy\n",
      "  after removing the cwd from sys.path.\n"
     ]
    }
   ],
   "source": [
    "# Add a comlumn holding the length of the customer's membership. \n",
    "#This is taken as the difference between the dates of the last and first transactions. Taking the date of membership\n",
    "# gives some negative values for customers who left after one transaction\n",
    "df5['Membership Length in Days'] = (df5['Last Transaction']-df5['First Transaction']).dt.days.astype(int)"
   ]
  },
  {
   "cell_type": "code",
   "execution_count": 415,
   "metadata": {},
   "outputs": [
    {
     "data": {
      "text/html": [
       "<div>\n",
       "<style scoped>\n",
       "    .dataframe tbody tr th:only-of-type {\n",
       "        vertical-align: middle;\n",
       "    }\n",
       "\n",
       "    .dataframe tbody tr th {\n",
       "        vertical-align: top;\n",
       "    }\n",
       "\n",
       "    .dataframe thead th {\n",
       "        text-align: right;\n",
       "    }\n",
       "</style>\n",
       "<table border=\"1\" class=\"dataframe\">\n",
       "  <thead>\n",
       "    <tr style=\"text-align: right;\">\n",
       "      <th></th>\n",
       "      <th>Customer ID</th>\n",
       "      <th>Membership Start Date</th>\n",
       "      <th>Transaction Date</th>\n",
       "      <th>Payment Type</th>\n",
       "      <th>Revenue</th>\n",
       "      <th>Transaction Date Month_Year</th>\n",
       "      <th>First Transaction</th>\n",
       "      <th>Last Transaction</th>\n",
       "      <th>Membership Length in Days</th>\n",
       "    </tr>\n",
       "  </thead>\n",
       "  <tbody>\n",
       "    <tr>\n",
       "      <th>0</th>\n",
       "      <td>386379</td>\n",
       "      <td>2019-02-19</td>\n",
       "      <td>2019-02-18</td>\n",
       "      <td>Annual Fee</td>\n",
       "      <td>285.9</td>\n",
       "      <td>2019-02</td>\n",
       "      <td>2019-02-18</td>\n",
       "      <td>2019-05-19</td>\n",
       "      <td>90</td>\n",
       "    </tr>\n",
       "    <tr>\n",
       "      <th>1</th>\n",
       "      <td>386379</td>\n",
       "      <td>2019-02-19</td>\n",
       "      <td>2019-02-18</td>\n",
       "      <td>Monthly Fee</td>\n",
       "      <td>26.5</td>\n",
       "      <td>2019-02</td>\n",
       "      <td>2019-02-18</td>\n",
       "      <td>2019-05-19</td>\n",
       "      <td>90</td>\n",
       "    </tr>\n",
       "    <tr>\n",
       "      <th>2</th>\n",
       "      <td>386379</td>\n",
       "      <td>2019-02-19</td>\n",
       "      <td>2019-03-19</td>\n",
       "      <td>Monthly Fee</td>\n",
       "      <td>26.5</td>\n",
       "      <td>2019-03</td>\n",
       "      <td>2019-02-18</td>\n",
       "      <td>2019-05-19</td>\n",
       "      <td>90</td>\n",
       "    </tr>\n",
       "    <tr>\n",
       "      <th>3</th>\n",
       "      <td>386379</td>\n",
       "      <td>2019-02-19</td>\n",
       "      <td>2019-04-19</td>\n",
       "      <td>Monthly Fee</td>\n",
       "      <td>26.5</td>\n",
       "      <td>2019-04</td>\n",
       "      <td>2019-02-18</td>\n",
       "      <td>2019-05-19</td>\n",
       "      <td>90</td>\n",
       "    </tr>\n",
       "    <tr>\n",
       "      <th>4</th>\n",
       "      <td>386379</td>\n",
       "      <td>2019-02-19</td>\n",
       "      <td>2019-05-19</td>\n",
       "      <td>Monthly Fee</td>\n",
       "      <td>26.5</td>\n",
       "      <td>2019-05</td>\n",
       "      <td>2019-02-18</td>\n",
       "      <td>2019-05-19</td>\n",
       "      <td>90</td>\n",
       "    </tr>\n",
       "  </tbody>\n",
       "</table>\n",
       "</div>"
      ],
      "text/plain": [
       "   Customer ID Membership Start Date Transaction Date Payment Type  Revenue  \\\n",
       "0       386379            2019-02-19       2019-02-18   Annual Fee    285.9   \n",
       "1       386379            2019-02-19       2019-02-18  Monthly Fee     26.5   \n",
       "2       386379            2019-02-19       2019-03-19  Monthly Fee     26.5   \n",
       "3       386379            2019-02-19       2019-04-19  Monthly Fee     26.5   \n",
       "4       386379            2019-02-19       2019-05-19  Monthly Fee     26.5   \n",
       "\n",
       "  Transaction Date Month_Year First Transaction Last Transaction  \\\n",
       "0                     2019-02        2019-02-18       2019-05-19   \n",
       "1                     2019-02        2019-02-18       2019-05-19   \n",
       "2                     2019-03        2019-02-18       2019-05-19   \n",
       "3                     2019-04        2019-02-18       2019-05-19   \n",
       "4                     2019-05        2019-02-18       2019-05-19   \n",
       "\n",
       "   Membership Length in Days  \n",
       "0                         90  \n",
       "1                         90  \n",
       "2                         90  \n",
       "3                         90  \n",
       "4                         90  "
      ]
     },
     "execution_count": 415,
     "metadata": {},
     "output_type": "execute_result"
    }
   ],
   "source": [
    "df5.head()"
   ]
  },
  {
   "cell_type": "code",
   "execution_count": 416,
   "metadata": {},
   "outputs": [
    {
     "name": "stderr",
     "output_type": "stream",
     "text": [
      "/Users/fayezabu-ajamieh/anaconda3/lib/python3.7/site-packages/ipykernel_launcher.py:2: SettingWithCopyWarning: \n",
      "A value is trying to be set on a copy of a slice from a DataFrame.\n",
      "Try using .loc[row_indexer,col_indexer] = value instead\n",
      "\n",
      "See the caveats in the documentation: https://pandas.pydata.org/pandas-docs/stable/user_guide/indexing.html#returning-a-view-versus-a-copy\n",
      "  \n"
     ]
    }
   ],
   "source": [
    "# Next, find the total number of transactions per customer\n",
    "df5['Number of Transactions'] = df5.groupby('Customer ID')['Transaction Date'].transform('count')"
   ]
  },
  {
   "cell_type": "code",
   "execution_count": 417,
   "metadata": {},
   "outputs": [
    {
     "name": "stderr",
     "output_type": "stream",
     "text": [
      "/Users/fayezabu-ajamieh/anaconda3/lib/python3.7/site-packages/ipykernel_launcher.py:2: SettingWithCopyWarning: \n",
      "A value is trying to be set on a copy of a slice from a DataFrame.\n",
      "Try using .loc[row_indexer,col_indexer] = value instead\n",
      "\n",
      "See the caveats in the documentation: https://pandas.pydata.org/pandas-docs/stable/user_guide/indexing.html#returning-a-view-versus-a-copy\n",
      "  \n"
     ]
    }
   ],
   "source": [
    "# Find the total sum paid per customer\n",
    "df5['Total Payments'] = df5.groupby('Customer ID')['Revenue'].transform('sum')"
   ]
  },
  {
   "cell_type": "code",
   "execution_count": 325,
   "metadata": {},
   "outputs": [],
   "source": [
    "# Define a little function to determine if the customer has been retained or not. All customers who \n",
    "# haven't made a payment in May 2019 are assumed lost\n",
    "def retained(timestamp):\n",
    "    if timestamp.year != 2019:\n",
    "        return 0\n",
    "    elif timestamp.month < 5:\n",
    "        return 0\n",
    "    else:\n",
    "        return 1"
   ]
  },
  {
   "cell_type": "code",
   "execution_count": 418,
   "metadata": {},
   "outputs": [
    {
     "name": "stderr",
     "output_type": "stream",
     "text": [
      "/Users/fayezabu-ajamieh/anaconda3/lib/python3.7/site-packages/ipykernel_launcher.py:1: SettingWithCopyWarning: \n",
      "A value is trying to be set on a copy of a slice from a DataFrame.\n",
      "Try using .loc[row_indexer,col_indexer] = value instead\n",
      "\n",
      "See the caveats in the documentation: https://pandas.pydata.org/pandas-docs/stable/user_guide/indexing.html#returning-a-view-versus-a-copy\n",
      "  \"\"\"Entry point for launching an IPython kernel.\n"
     ]
    }
   ],
   "source": [
    "df5['Retained'] = df5['Last Transaction'].apply(retained)"
   ]
  },
  {
   "cell_type": "code",
   "execution_count": 419,
   "metadata": {},
   "outputs": [
    {
     "data": {
      "text/html": [
       "<div>\n",
       "<style scoped>\n",
       "    .dataframe tbody tr th:only-of-type {\n",
       "        vertical-align: middle;\n",
       "    }\n",
       "\n",
       "    .dataframe tbody tr th {\n",
       "        vertical-align: top;\n",
       "    }\n",
       "\n",
       "    .dataframe thead th {\n",
       "        text-align: right;\n",
       "    }\n",
       "</style>\n",
       "<table border=\"1\" class=\"dataframe\">\n",
       "  <thead>\n",
       "    <tr style=\"text-align: right;\">\n",
       "      <th></th>\n",
       "      <th>Customer ID</th>\n",
       "      <th>Membership Start Date</th>\n",
       "      <th>Transaction Date</th>\n",
       "      <th>Payment Type</th>\n",
       "      <th>Revenue</th>\n",
       "      <th>Transaction Date Month_Year</th>\n",
       "      <th>First Transaction</th>\n",
       "      <th>Last Transaction</th>\n",
       "      <th>Membership Length in Days</th>\n",
       "      <th>Number of Transactions</th>\n",
       "      <th>Total Payments</th>\n",
       "      <th>Retained</th>\n",
       "    </tr>\n",
       "  </thead>\n",
       "  <tbody>\n",
       "    <tr>\n",
       "      <th>0</th>\n",
       "      <td>386379</td>\n",
       "      <td>2019-02-19</td>\n",
       "      <td>2019-02-18</td>\n",
       "      <td>Annual Fee</td>\n",
       "      <td>285.9</td>\n",
       "      <td>2019-02</td>\n",
       "      <td>2019-02-18</td>\n",
       "      <td>2019-05-19</td>\n",
       "      <td>90</td>\n",
       "      <td>5</td>\n",
       "      <td>391.9</td>\n",
       "      <td>1</td>\n",
       "    </tr>\n",
       "    <tr>\n",
       "      <th>1</th>\n",
       "      <td>386379</td>\n",
       "      <td>2019-02-19</td>\n",
       "      <td>2019-02-18</td>\n",
       "      <td>Monthly Fee</td>\n",
       "      <td>26.5</td>\n",
       "      <td>2019-02</td>\n",
       "      <td>2019-02-18</td>\n",
       "      <td>2019-05-19</td>\n",
       "      <td>90</td>\n",
       "      <td>5</td>\n",
       "      <td>391.9</td>\n",
       "      <td>1</td>\n",
       "    </tr>\n",
       "    <tr>\n",
       "      <th>2</th>\n",
       "      <td>386379</td>\n",
       "      <td>2019-02-19</td>\n",
       "      <td>2019-03-19</td>\n",
       "      <td>Monthly Fee</td>\n",
       "      <td>26.5</td>\n",
       "      <td>2019-03</td>\n",
       "      <td>2019-02-18</td>\n",
       "      <td>2019-05-19</td>\n",
       "      <td>90</td>\n",
       "      <td>5</td>\n",
       "      <td>391.9</td>\n",
       "      <td>1</td>\n",
       "    </tr>\n",
       "    <tr>\n",
       "      <th>3</th>\n",
       "      <td>386379</td>\n",
       "      <td>2019-02-19</td>\n",
       "      <td>2019-04-19</td>\n",
       "      <td>Monthly Fee</td>\n",
       "      <td>26.5</td>\n",
       "      <td>2019-04</td>\n",
       "      <td>2019-02-18</td>\n",
       "      <td>2019-05-19</td>\n",
       "      <td>90</td>\n",
       "      <td>5</td>\n",
       "      <td>391.9</td>\n",
       "      <td>1</td>\n",
       "    </tr>\n",
       "    <tr>\n",
       "      <th>4</th>\n",
       "      <td>386379</td>\n",
       "      <td>2019-02-19</td>\n",
       "      <td>2019-05-19</td>\n",
       "      <td>Monthly Fee</td>\n",
       "      <td>26.5</td>\n",
       "      <td>2019-05</td>\n",
       "      <td>2019-02-18</td>\n",
       "      <td>2019-05-19</td>\n",
       "      <td>90</td>\n",
       "      <td>5</td>\n",
       "      <td>391.9</td>\n",
       "      <td>1</td>\n",
       "    </tr>\n",
       "  </tbody>\n",
       "</table>\n",
       "</div>"
      ],
      "text/plain": [
       "   Customer ID Membership Start Date Transaction Date Payment Type  Revenue  \\\n",
       "0       386379            2019-02-19       2019-02-18   Annual Fee    285.9   \n",
       "1       386379            2019-02-19       2019-02-18  Monthly Fee     26.5   \n",
       "2       386379            2019-02-19       2019-03-19  Monthly Fee     26.5   \n",
       "3       386379            2019-02-19       2019-04-19  Monthly Fee     26.5   \n",
       "4       386379            2019-02-19       2019-05-19  Monthly Fee     26.5   \n",
       "\n",
       "  Transaction Date Month_Year First Transaction Last Transaction  \\\n",
       "0                     2019-02        2019-02-18       2019-05-19   \n",
       "1                     2019-02        2019-02-18       2019-05-19   \n",
       "2                     2019-03        2019-02-18       2019-05-19   \n",
       "3                     2019-04        2019-02-18       2019-05-19   \n",
       "4                     2019-05        2019-02-18       2019-05-19   \n",
       "\n",
       "   Membership Length in Days  Number of Transactions  Total Payments  Retained  \n",
       "0                         90                       5           391.9         1  \n",
       "1                         90                       5           391.9         1  \n",
       "2                         90                       5           391.9         1  \n",
       "3                         90                       5           391.9         1  \n",
       "4                         90                       5           391.9         1  "
      ]
     },
     "execution_count": 419,
     "metadata": {},
     "output_type": "execute_result"
    }
   ],
   "source": [
    "df5.head()"
   ]
  },
  {
   "cell_type": "code",
   "execution_count": 420,
   "metadata": {},
   "outputs": [
    {
     "data": {
      "text/plain": [
       "<AxesSubplot:xlabel='Payment Type'>"
      ]
     },
     "execution_count": 420,
     "metadata": {},
     "output_type": "execute_result"
    },
    {
     "data": {
      "image/png": "[encoded data removed]",
      "text/plain": [
       "<Figure size 432x288 with 1 Axes>"
      ]
     },
     "metadata": {
      "needs_background": "light"
     },
     "output_type": "display_data"
    }
   ],
   "source": [
    "# Here I check whether the type of payment is indicative or not. It seems that there isn't much difference\n",
    "# between them, meaning that most customers who made an annual payment, also made monthly payments. So the \n",
    "# payment type is not an important feature\n",
    "sns.barplot(x='Payment Type',y=df5['Customer ID'].nunique(),data=df5)"
   ]
  },
  {
   "cell_type": "code",
   "execution_count": 421,
   "metadata": {},
   "outputs": [],
   "source": [
    "# Keep the important features and the target column\n",
    "df6 = df5.drop(['Membership Start Date','Transaction Date','Payment Type',\n",
    "                'Payment Type','Revenue','Transaction Date Month_Year','First Transaction','Last Transaction'],axis=1)"
   ]
  },
  {
   "cell_type": "code",
   "execution_count": 424,
   "metadata": {},
   "outputs": [],
   "source": [
    "# Remove duplicated customers since I have their information now. I also no longer need the customer ID\n",
    "df6.drop_duplicates(inplace=True)\n",
    "df6.drop('Customer ID',axis=1,inplace=True)"
   ]
  },
  {
   "cell_type": "code",
   "execution_count": 425,
   "metadata": {},
   "outputs": [
    {
     "data": {
      "text/html": [
       "<div>\n",
       "<style scoped>\n",
       "    .dataframe tbody tr th:only-of-type {\n",
       "        vertical-align: middle;\n",
       "    }\n",
       "\n",
       "    .dataframe tbody tr th {\n",
       "        vertical-align: top;\n",
       "    }\n",
       "\n",
       "    .dataframe thead th {\n",
       "        text-align: right;\n",
       "    }\n",
       "</style>\n",
       "<table border=\"1\" class=\"dataframe\">\n",
       "  <thead>\n",
       "    <tr style=\"text-align: right;\">\n",
       "      <th></th>\n",
       "      <th>Membership Length in Days</th>\n",
       "      <th>Number of Transactions</th>\n",
       "      <th>Total Payments</th>\n",
       "      <th>Retained</th>\n",
       "    </tr>\n",
       "  </thead>\n",
       "  <tbody>\n",
       "    <tr>\n",
       "      <th>0</th>\n",
       "      <td>90</td>\n",
       "      <td>5</td>\n",
       "      <td>391.9</td>\n",
       "      <td>1</td>\n",
       "    </tr>\n",
       "    <tr>\n",
       "      <th>5</th>\n",
       "      <td>90</td>\n",
       "      <td>5</td>\n",
       "      <td>391.9</td>\n",
       "      <td>1</td>\n",
       "    </tr>\n",
       "    <tr>\n",
       "      <th>10</th>\n",
       "      <td>90</td>\n",
       "      <td>5</td>\n",
       "      <td>437.9</td>\n",
       "      <td>1</td>\n",
       "    </tr>\n",
       "    <tr>\n",
       "      <th>15</th>\n",
       "      <td>60</td>\n",
       "      <td>4</td>\n",
       "      <td>411.4</td>\n",
       "      <td>0</td>\n",
       "    </tr>\n",
       "    <tr>\n",
       "      <th>19</th>\n",
       "      <td>147</td>\n",
       "      <td>6</td>\n",
       "      <td>409.6</td>\n",
       "      <td>1</td>\n",
       "    </tr>\n",
       "  </tbody>\n",
       "</table>\n",
       "</div>"
      ],
      "text/plain": [
       "    Membership Length in Days  Number of Transactions  Total Payments  \\\n",
       "0                          90                       5           391.9   \n",
       "5                          90                       5           391.9   \n",
       "10                         90                       5           437.9   \n",
       "15                         60                       4           411.4   \n",
       "19                        147                       6           409.6   \n",
       "\n",
       "    Retained  \n",
       "0          1  \n",
       "5          1  \n",
       "10         1  \n",
       "15         0  \n",
       "19         1  "
      ]
     },
     "execution_count": 425,
     "metadata": {},
     "output_type": "execute_result"
    }
   ],
   "source": [
    "df6.head()"
   ]
  },
  {
   "cell_type": "code",
   "execution_count": 426,
   "metadata": {},
   "outputs": [
    {
     "data": {
      "text/plain": [
       "<seaborn.axisgrid.PairGrid at 0x7ff95c4d95d0>"
      ]
     },
     "execution_count": 426,
     "metadata": {},
     "output_type": "execute_result"
    },
    {
     "data": {
      "image/png": "[encoded data removed]",
      "text/plain": [
       "<Figure size 720x720 with 20 Axes>"
      ]
     },
     "metadata": {
      "needs_background": "light"
     },
     "output_type": "display_data"
    }
   ],
   "source": [
    "# Data visualization to see correlations\n",
    "sns.pairplot(df6)"
   ]
  },
  {
   "cell_type": "code",
   "execution_count": 431,
   "metadata": {},
   "outputs": [
    {
     "data": {
      "text/plain": [
       "<AxesSubplot:>"
      ]
     },
     "execution_count": 431,
     "metadata": {},
     "output_type": "execute_result"
    },
    {
     "data": {
      "image/png": "[encoded data removed]",
      "text/plain": [
       "<Figure size 864x576 with 2 Axes>"
      ]
     },
     "metadata": {
      "needs_background": "light"
     },
     "output_type": "display_data"
    }
   ],
   "source": [
    "# Check correlations\n",
    "plt.figure(figsize=(12,8))\n",
    "sns.heatmap(df6.corr(),annot=True)"
   ]
  },
  {
   "cell_type": "code",
   "execution_count": 433,
   "metadata": {},
   "outputs": [],
   "source": [
    "# It seems that whether the customer is retained or not does not depend much on how much they paid, so I'll drop it\n",
    "# Maybe having the total number of transactions and the length of stay is redundant, since both are highly correlated\n",
    "df7 = df6.drop('Total Payments',axis=1)"
   ]
  },
  {
   "cell_type": "code",
   "execution_count": 434,
   "metadata": {},
   "outputs": [],
   "source": [
    "# Do train-test split, train the model, make predictions and then evaluate\n",
    "from sklearn.model_selection import train_test_split\n",
    "from sklearn.linear_model import LogisticRegression\n",
    "from sklearn.metrics import confusion_matrix,classification_report"
   ]
  },
  {
   "cell_type": "code",
   "execution_count": 346,
   "metadata": {},
   "outputs": [],
   "source": [
    "X = df7.drop(['Retained'],axis=1)\n",
    "y = df7['Retained']\n",
    "\n",
    "X_train, X_test, y_train, y_test = train_test_split(X, y, test_size=0.25, random_state=101)"
   ]
  },
  {
   "cell_type": "code",
   "execution_count": 435,
   "metadata": {},
   "outputs": [],
   "source": [
    "log_reg = LogisticRegression()"
   ]
  },
  {
   "cell_type": "code",
   "execution_count": 436,
   "metadata": {},
   "outputs": [
    {
     "data": {
      "text/plain": [
       "LogisticRegression()"
      ]
     },
     "execution_count": 436,
     "metadata": {},
     "output_type": "execute_result"
    }
   ],
   "source": [
    "log_reg.fit(X_train,y_train)"
   ]
  },
  {
   "cell_type": "code",
   "execution_count": 437,
   "metadata": {},
   "outputs": [],
   "source": [
    "log_pred = log_reg.predict(X_test)"
   ]
  },
  {
   "cell_type": "code",
   "execution_count": 438,
   "metadata": {},
   "outputs": [
    {
     "name": "stdout",
     "output_type": "stream",
     "text": [
      "[[1328  258]\n",
      " [ 334  793]]\n",
      "\n",
      "\n",
      "              precision    recall  f1-score   support\n",
      "\n",
      "           0       0.80      0.84      0.82      1586\n",
      "           1       0.75      0.70      0.73      1127\n",
      "\n",
      "    accuracy                           0.78      2713\n",
      "   macro avg       0.78      0.77      0.77      2713\n",
      "weighted avg       0.78      0.78      0.78      2713\n",
      "\n"
     ]
    }
   ],
   "source": [
    "print(confusion_matrix(y_test,log_pred))\n",
    "print('\\n')\n",
    "print(classification_report(y_test,log_pred))"
   ]
  },
  {
   "cell_type": "code",
   "execution_count": 454,
   "metadata": {},
   "outputs": [],
   "source": [
    "# Out of curiousity, I will see what happens when I drop the the membership length in days and only keep\n",
    "# number of transactions"
   ]
  },
  {
   "cell_type": "code",
   "execution_count": 455,
   "metadata": {},
   "outputs": [],
   "source": [
    "df7 = df6.drop(['Total Payments','Membership Length in Days'],axis=1)"
   ]
  },
  {
   "cell_type": "code",
   "execution_count": 456,
   "metadata": {},
   "outputs": [],
   "source": [
    "# Do train-test split, train the model, make predictions and then evaluate\n",
    "from sklearn.model_selection import train_test_split\n",
    "from sklearn.linear_model import LogisticRegression\n",
    "from sklearn.metrics import confusion_matrix,classification_report"
   ]
  },
  {
   "cell_type": "code",
   "execution_count": 473,
   "metadata": {},
   "outputs": [],
   "source": [
    "X = df7.drop(['Retained'],axis=1)\n",
    "y = df7['Retained']\n",
    "\n",
    "X_train, X_test, y_train, y_test = train_test_split(X, y, test_size=0.25, random_state=101)"
   ]
  },
  {
   "cell_type": "code",
   "execution_count": 474,
   "metadata": {},
   "outputs": [],
   "source": [
    "log_reg = LogisticRegression()"
   ]
  },
  {
   "cell_type": "code",
   "execution_count": 475,
   "metadata": {},
   "outputs": [
    {
     "data": {
      "text/plain": [
       "LogisticRegression()"
      ]
     },
     "execution_count": 475,
     "metadata": {},
     "output_type": "execute_result"
    }
   ],
   "source": [
    "log_reg.fit(X_train,y_train)"
   ]
  },
  {
   "cell_type": "code",
   "execution_count": 476,
   "metadata": {},
   "outputs": [],
   "source": [
    "log_pred = log_reg.predict(X_test)"
   ]
  },
  {
   "cell_type": "code",
   "execution_count": 477,
   "metadata": {},
   "outputs": [
    {
     "name": "stdout",
     "output_type": "stream",
     "text": [
      "[[1328  258]\n",
      " [ 334  793]]\n",
      "\n",
      "\n",
      "              precision    recall  f1-score   support\n",
      "\n",
      "           0       0.80      0.84      0.82      1586\n",
      "           1       0.75      0.70      0.73      1127\n",
      "\n",
      "    accuracy                           0.78      2713\n",
      "   macro avg       0.78      0.77      0.77      2713\n",
      "weighted avg       0.78      0.78      0.78      2713\n",
      "\n"
     ]
    }
   ],
   "source": [
    "print(confusion_matrix(y_test,log_pred))\n",
    "print('\\n')\n",
    "print(classification_report(y_test,log_pred))"
   ]
  },
  {
   "cell_type": "code",
   "execution_count": 467,
   "metadata": {},
   "outputs": [],
   "source": [
    "# The results are identical to the previous case, meaning that the membership duration is redundant, as expected"
   ]
  },
  {
   "cell_type": "code",
   "execution_count": null,
   "metadata": {},
   "outputs": [],
   "source": [
    "# I don't know if I can do better that this. I am afraid I am not familar with survival analysis yet"
   ]
  }
 ],
 "metadata": {
  "kernelspec": {
   "display_name": "Python 3",
   "language": "python",
   "name": "python3"
  },
  "language_info": {
   "codemirror_mode": {
    "name": "ipython",
    "version": 3
   },
   "file_extension": ".py",
   "mimetype": "text/x-python",
   "name": "python",
   "nbconvert_exporter": "python",
   "pygments_lexer": "ipython3",
   "version": "3.7.8"
  }
 },
 "nbformat": 4,
 "nbformat_minor": 4
}
